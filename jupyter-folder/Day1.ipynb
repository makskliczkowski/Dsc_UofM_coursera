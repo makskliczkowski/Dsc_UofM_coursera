{
 "cells": [
  {
   "cell_type": "code",
   "execution_count": 3,
   "metadata": {},
   "outputs": [
    {
     "data": {
      "text/plain": [
       "6"
      ]
     },
     "execution_count": 3,
     "metadata": {},
     "output_type": "execute_result"
    }
   ],
   "source": [
    "x = 2\n",
    "y = 4\n",
    "x + y"
   ]
  },
  {
   "cell_type": "code",
   "execution_count": 15,
   "metadata": {},
   "outputs": [
    {
     "name": "stdout",
     "output_type": "stream",
     "text": [
      "6\n"
     ]
    }
   ],
   "source": [
    "#variables extist between cells\n",
    "def add_num(x,y,z=None):\n",
    "    if(z==None):\n",
    "        return x+y\n",
    "    else:\n",
    "        return x+y+z\n",
    "\n",
    "print(add_num(1,2,3))"
   ]
  },
  {
   "cell_type": "code",
   "execution_count": 16,
   "metadata": {},
   "outputs": [
    {
     "data": {
      "text/plain": [
       "-1"
      ]
     },
     "execution_count": 16,
     "metadata": {},
     "output_type": "execute_result"
    }
   ],
   "source": [
    "def do_smth(a,b,kind = 'add'):\n",
    "    if (kind == 'add'):\n",
    "        return a+b\n",
    "    else:\n",
    "        return a-b\n",
    "do_smth(1,2,'no')\n"
   ]
  },
  {
   "cell_type": "markdown",
   "metadata": {},
   "source": [
    "# PYTHON types\n"
   ]
  },
  {
   "cell_type": "code",
   "execution_count": 25,
   "metadata": {},
   "outputs": [
    {
     "name": "stdout",
     "output_type": "stream",
     "text": [
      "(1, 'ala')\n",
      "1\n",
      "g\n",
      "42\n",
      "hal\n",
      "ooo\n"
     ]
    }
   ],
   "source": [
    "#there are 3 types of colections:\n",
    "#tuples - orderd but immutable, they are in ( ---------)\n",
    "x1 = (1,'ala')\n",
    "print(x1)\n",
    "#list are mutable [--------------------]\n",
    "#we can append by x.append()\n",
    "#in list and tuples we have iterators\n",
    "l = [1, 'g', 42]\n",
    "for item in l:\n",
    "    print(item)\n",
    "#the best thing is slicing, the first parameter is starting location\n",
    "#and second is the end of the slice\n",
    "string = 'hal ooo'\n",
    "print(string[0:3])\n",
    "\n",
    "#to manipulate strings we can also concatenate, repeat, search split\n",
    "#(break string) x.split(separating character)\n",
    "\n",
    "#\n",
    "print(string.split(' ')[-1])\n",
    "\n",
    "\n"
   ]
  },
  {
   "cell_type": "markdown",
   "metadata": {},
   "source": [
    "### Dictionaries are labeled variables"
   ]
  },
  {
   "cell_type": "code",
   "execution_count": 26,
   "metadata": {},
   "outputs": [
    {
     "name": "stdout",
     "output_type": "stream",
     "text": [
      "{'hi': 'hey', 'halo': 50}\n"
     ]
    }
   ],
   "source": [
    "#we can again iterate over keys or values or even by all items x1,x2\n",
    "dic = {'hi': 'hey', 'halo':50}\n",
    "print(dic)"
   ]
  },
  {
   "cell_type": "markdown",
   "metadata": {},
   "source": [
    "\n",
    "# More about strings\n"
   ]
  },
  {
   "cell_type": "code",
   "execution_count": 28,
   "metadata": {},
   "outputs": [
    {
     "name": "stdout",
     "output_type": "stream",
     "text": [
      "hallo4\n"
     ]
    }
   ],
   "source": [
    "#in python they are unicode not in ASCII\n",
    "#more symbols are in unicode\n",
    "#to add number to string we need to  use concat to make it possible\n",
    "print(\"hallo\" + str(4))"
   ]
  },
  {
   "cell_type": "code",
   "execution_count": 30,
   "metadata": {},
   "outputs": [
    {
     "name": "stdout",
     "output_type": "stream",
     "text": [
      "yes whaaaat 50\n"
     ]
    }
   ],
   "source": [
    "# we can also use formating on dictionaries to print them correctly \n",
    "haro = '{} whaaaat {}'\n",
    "first = {'yes':'yes'}\n",
    "sales =  50\n",
    "print(haro.format(first['yes'],sales))"
   ]
  },
  {
   "cell_type": "markdown",
   "metadata": {},
   "source": [
    "# READING AND WRITING CSV TO CREATE DICT AND STATS "
   ]
  },
  {
   "cell_type": "code",
   "execution_count": null,
   "metadata": {},
   "outputs": [],
   "source": [
    "import csv\n",
    "#we can create sets "
   ]
  }
 ],
 "metadata": {
  "kernelspec": {
   "display_name": "Python 3",
   "language": "python",
   "name": "python3"
  },
  "language_info": {
   "codemirror_mode": {
    "name": "ipython",
    "version": 3
   },
   "file_extension": ".py",
   "mimetype": "text/x-python",
   "name": "python",
   "nbconvert_exporter": "python",
   "pygments_lexer": "ipython3",
   "version": "3.8.2"
  }
 },
 "nbformat": 4,
 "nbformat_minor": 4
}
